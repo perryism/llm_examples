{
 "cells": [
  {
   "cell_type": "markdown",
   "id": "c88e6753-6714-4898-b4e0-069b7be3957d",
   "metadata": {},
   "source": [
    "https://docs.mistral.ai/capabilities/function_calling/\n",
    "\n",
    "https://python.langchain.com/v0.2/docs/how_to/tool_calling/"
   ]
  },
  {
   "cell_type": "code",
   "execution_count": 12,
   "id": "8dee1f90-16de-4523-983b-507be9abe852",
   "metadata": {},
   "outputs": [],
   "source": [
    "from langchain_core.tools import tool\n",
    "\n",
    "def add(a: int, b: int) -> int:\n",
    "    \"\"\"Adds a and b.\"\"\"\n",
    "    return a + b\n",
    "\n",
    "def multiply(a: int, b: int) -> int:\n",
    "    \"\"\"Multiply two integers.\n",
    "\n",
    "    Args:\n",
    "        a: First integer\n",
    "        b: Second integer\n",
    "    \"\"\"\n",
    "    return a * b"
   ]
  },
  {
   "cell_type": "code",
   "execution_count": 2,
   "id": "e5ce075b-a88d-4fef-8aaa-dcee309c466c",
   "metadata": {},
   "outputs": [],
   "source": [
    "from langchain_openai import ChatOpenAI\n",
    "from openai import  OpenAI\n",
    "client = ChatOpenAI(base_url=\"http://localhost:1234/v1\", api_key=\"lm-studio\")"
   ]
  },
  {
   "cell_type": "code",
   "execution_count": 13,
   "id": "d64bb941-ccbd-4611-bb84-684c445945ad",
   "metadata": {},
   "outputs": [],
   "source": [
    "class Tools:\n",
    "    def __init__(self, items):\n",
    "        self.indices = {i.__name__: i for i in items}\n",
    "        self.items = items\n",
    "\n",
    "    def __iter__(self):\n",
    "        return (i for i in self.items)\n",
    "\n",
    "    def invoke(self, response):\n",
    "        return list(self.invoke_lazy(response))\n",
    "\n",
    "    def invoke_lazy(self, response):\n",
    "        for resp in response:\n",
    "            yield self.indices[resp['name']](**resp['args'])"
   ]
  },
  {
   "cell_type": "code",
   "execution_count": 14,
   "id": "b3792f0e-7448-40a7-91f1-11c4a0eddd67",
   "metadata": {},
   "outputs": [],
   "source": [
    "tools = Tools([add, multiply])\n",
    "\n",
    "llm_with_tools = client.bind_tools(tools)"
   ]
  },
  {
   "cell_type": "code",
   "execution_count": 15,
   "id": "4308596b-ffd9-4910-8641-13354489687c",
   "metadata": {},
   "outputs": [
    {
     "data": {
      "text/plain": [
       "AIMessage(content='', additional_kwargs={'tool_calls': [{'id': '717891438', 'function': {'arguments': '{\"a\":2,\"b\":4}', 'name': 'add'}, 'type': 'function'}], 'refusal': None}, response_metadata={'token_usage': {'completion_tokens': 24, 'prompt_tokens': 161, 'total_tokens': 185, 'completion_tokens_details': None, 'prompt_tokens_details': None}, 'model_name': 'mistral-nemo-instruct-2407', 'system_fingerprint': 'mistral-nemo-instruct-2407', 'finish_reason': 'tool_calls', 'logprobs': None}, id='run-05540a4e-5fa9-440d-af7c-80155653bccc-0', tool_calls=[{'name': 'add', 'args': {'a': 2, 'b': 4}, 'id': '717891438', 'type': 'tool_call'}], usage_metadata={'input_tokens': 161, 'output_tokens': 24, 'total_tokens': 185, 'input_token_details': {}, 'output_token_details': {}})"
      ]
     },
     "execution_count": 15,
     "metadata": {},
     "output_type": "execute_result"
    }
   ],
   "source": [
    "response = llm_with_tools.invoke(\"what is 2 + 4\")\n",
    "response"
   ]
  },
  {
   "cell_type": "code",
   "execution_count": 16,
   "id": "d0618f5e-6c34-47e2-adc2-5baa2e6430b4",
   "metadata": {},
   "outputs": [
    {
     "data": {
      "text/plain": [
       "[{'name': 'add',\n",
       "  'args': {'a': 2, 'b': 4},\n",
       "  'id': '717891438',\n",
       "  'type': 'tool_call'}]"
      ]
     },
     "execution_count": 16,
     "metadata": {},
     "output_type": "execute_result"
    }
   ],
   "source": [
    "response.tool_calls"
   ]
  },
  {
   "cell_type": "code",
   "execution_count": 19,
   "id": "e83ee6a8-ab07-4114-a92e-597d0b6b09f1",
   "metadata": {},
   "outputs": [
    {
     "data": {
      "text/plain": [
       "[6]"
      ]
     },
     "execution_count": 19,
     "metadata": {},
     "output_type": "execute_result"
    }
   ],
   "source": [
    "tools.invoke(response.tool_calls)"
   ]
  }
 ],
 "metadata": {
  "kernelspec": {
   "display_name": "Python 3 (ipykernel)",
   "language": "python",
   "name": "python3"
  },
  "language_info": {
   "codemirror_mode": {
    "name": "ipython",
    "version": 3
   },
   "file_extension": ".py",
   "mimetype": "text/x-python",
   "name": "python",
   "nbconvert_exporter": "python",
   "pygments_lexer": "ipython3",
   "version": "3.12.4"
  }
 },
 "nbformat": 4,
 "nbformat_minor": 5
}
