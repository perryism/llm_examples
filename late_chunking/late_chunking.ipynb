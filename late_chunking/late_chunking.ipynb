{
 "cells": [
  {
   "cell_type": "code",
   "execution_count": null,
   "id": "2323e201-227d-4ca7-a1df-0d8a945d3224",
   "metadata": {},
   "outputs": [],
   "source": [
    "https://github.com/jina-ai/late-chunking/blob/main/chunked_pooling/__init__.py"
   ]
  },
  {
   "cell_type": "code",
   "execution_count": 1,
   "id": "73b3ba83-4d81-4e1d-972b-d28fcb40bff6",
   "metadata": {
    "scrolled": true
   },
   "outputs": [],
   "source": [
    "from transformers import AutoTokenizer, AutoModel\n",
    "import torch\n",
    "\n",
    "# Load model and tokenizer\n",
    "tokenizer = AutoTokenizer.from_pretrained(\"jinaai/jina-embeddings-v2-small-en\")\n",
    "model = AutoModel.from_pretrained('jinaai/jina-embeddings-v2-base-en', trust_remote_code=True)\n",
    "\n",
    "# https://github.com/jina-ai/late-chunking/blob/main/chunked_pooling/__init__.py\n",
    "from chunked_pooling import chunk_by_sentences, chunked_pooling\n",
    "\n",
    "# Example usage\n",
    "input_text  = \"\"\"\n",
    "Perry, having recently wrapped up a project at TaskRabbit, leaned back in his chair, stretching his arms as he began dictating his day's activities to his smart home device. He had been particularly engrossed in fine-tuning their machine learning algorithms to optimize task matching, ensuring local demand was met efficiently.\n",
    "\n",
    "He, now standing, walked over to the kitchen counter where his wife had left a note about grocery shopping. Despite Daly City being less bustling than San Francisco, they still appreciated the convenience of having everything nearby. He grabbed his keys and headed out, passing by their daughter's piano room where she was practicing scales, her fingers dancing lightly on the keys.\n",
    "\n",
    "Later that afternoon, he found himself in his son's room, watching as the boy strummed a melody on his guitar. His wife joined them, balancing a bass guitar on her lap, eager to learn and keep up with their musically inclined children. He smiled, envisioning their future family band jams echoing through the house.\n",
    "\n",
    "After dinner, he sat down at his computer, ready to catch up on some emails. A notification popped up from his parents, a picture of their orange tabby cat, Marmalade, lounging in the sun. He chuckled, remembering how his kids would beg to go over just to see 'Marmalady,' as they affectionately called her.\n",
    "\n",
    "As he settled into bed later that night, he picked up his guitar, fingers finding the familiar chords of a Flamenco piece he had been attempting to master. The soft strumming filled their bedroom, lulling his wife and himself to sleep, dreaming of future concerts with his family band.\n",
    "\"\"\"\n",
    "\n",
    "#print(len(input_text))\n",
    "#chunk_embeddings, token_embeddings = late_chunking(document, chunk_size=64)"
   ]
  },
  {
   "cell_type": "markdown",
   "id": "7ac5306b-8fbd-4ab4-916f-88857e7dfe3c",
   "metadata": {},
   "source": [
    "# Chunking"
   ]
  },
  {
   "cell_type": "code",
   "execution_count": 3,
   "id": "656d0538-c310-4544-aea9-3fe458fdab77",
   "metadata": {},
   "outputs": [],
   "source": [
    "chunks, span_annotations = chunk_by_sentences(input_text, tokenizer)"
   ]
  },
  {
   "cell_type": "code",
   "execution_count": 4,
   "id": "81306588-e21e-46ae-81d0-d97270799023",
   "metadata": {},
   "outputs": [
    {
     "data": {
      "text/plain": [
       "[\"\\nPerry, having recently wrapped up a project at TaskRabbit, leaned back in his chair, stretching his arms as he began dictating his day's activities to his smart home device.\",\n",
       " ' He had been particularly engrossed in fine-tuning their machine learning algorithms to optimize task matching, ensuring local demand was met efficiently.',\n",
       " '\\n\\nHe, now standing, walked over to the kitchen counter where his wife had left a note about grocery shopping.',\n",
       " ' Despite Daly City being less bustling than San Francisco, they still appreciated the convenience of having everything nearby.',\n",
       " \" He grabbed his keys and headed out, passing by their daughter's piano room where she was practicing scales, her fingers dancing lightly on the keys.\",\n",
       " \"\\n\\nLater that afternoon, he found himself in his son's room, watching as the boy strummed a melody on his guitar.\",\n",
       " ' His wife joined them, balancing a bass guitar on her lap, eager to learn and keep up with their musically inclined children.',\n",
       " ' He smiled, envisioning their future family band jams echoing through the house.',\n",
       " '\\n\\nAfter dinner, he sat down at his computer, ready to catch up on some emails.',\n",
       " ' A notification popped up from his parents, a picture of their orange tabby cat, Marmalade, lounging in the sun.',\n",
       " \" He chuckled, remembering how his kids would beg to go over just to see 'Marmalady,' as they affectionately called her.\",\n",
       " '\\n\\nAs he settled into bed later that night, he picked up his guitar, fingers finding the familiar chords of a Flamenco piece he had been attempting to master.',\n",
       " ' The soft strumming filled their bedroom, lulling his wife and himself to sleep, dreaming of future concerts with his family band.']"
      ]
     },
     "execution_count": 4,
     "metadata": {},
     "output_type": "execute_result"
    }
   ],
   "source": [
    "chunks"
   ]
  },
  {
   "cell_type": "code",
   "execution_count": 6,
   "id": "340e2ea5-496b-4f11-b153-4df4cf9e7998",
   "metadata": {
    "scrolled": true
   },
   "outputs": [],
   "source": [
    "import numpy as np\n",
    "def similarity(embedding1, embedding2):\n",
    "    return np.dot(embedding1, embedding2) / (np.linalg.norm(embedding1) * np.linalg.norm(embedding2))"
   ]
  },
  {
   "cell_type": "code",
   "execution_count": 9,
   "id": "a78d7b4e-5aa8-4b2d-8b40-f0ca1af5800f",
   "metadata": {},
   "outputs": [
    {
     "name": "stdout",
     "output_type": "stream",
     "text": [
      "0.74148357 \n",
      "Perry, having recently wrapped up a project at TaskRabbit, leaned back in his chair, stretching his arms as he began dictating his day's activities to his smart home device.\n",
      "0.58551586  He had been particularly engrossed in fine-tuning their machine learning algorithms to optimize task matching, ensuring local demand was met efficiently.\n",
      "0.6600097 \n",
      "\n",
      "He, now standing, walked over to the kitchen counter where his wife had left a note about grocery shopping.\n",
      "0.6096305  Despite Daly City being less bustling than San Francisco, they still appreciated the convenience of having everything nearby.\n",
      "0.6534516  He grabbed his keys and headed out, passing by their daughter's piano room where she was practicing scales, her fingers dancing lightly on the keys.\n",
      "0.6474732 \n",
      "\n",
      "Later that afternoon, he found himself in his son's room, watching as the boy strummed a melody on his guitar.\n",
      "0.64367604  His wife joined them, balancing a bass guitar on her lap, eager to learn and keep up with their musically inclined children.\n",
      "0.6403286  He smiled, envisioning their future family band jams echoing through the house.\n",
      "0.6404194 \n",
      "\n",
      "After dinner, he sat down at his computer, ready to catch up on some emails.\n",
      "0.6591708  A notification popped up from his parents, a picture of their orange tabby cat, Marmalade, lounging in the sun.\n",
      "0.6463753  He chuckled, remembering how his kids would beg to go over just to see 'Marmalady,' as they affectionately called her.\n",
      "0.65558016 \n",
      "\n",
      "As he settled into bed later that night, he picked up his guitar, fingers finding the familiar chords of a Flamenco piece he had been attempting to master.\n",
      "0.6480412  The soft strumming filled their bedroom, lulling his wife and himself to sleep, dreaming of future concerts with his family band.\n"
     ]
    }
   ],
   "source": [
    "embeddings_traditional_chunking = model.encode(chunks)\n",
    "question_embeddings = model.encode([\"Tell me about Perry. \"])\n",
    "\n",
    "for i, e in enumerate(embeddings_traditional_chunking):\n",
    "    score = similarity(question_embeddings[0], e)\n",
    "    print(score, chunks[i])\n",
    "    # if score > 0.75:\n",
    "    #     print(chunks[i], score)"
   ]
  },
  {
   "cell_type": "markdown",
   "id": "01eceb17-1761-4101-80ba-bc25f2027445",
   "metadata": {},
   "source": [
    "# Late chunking"
   ]
  },
  {
   "cell_type": "code",
   "execution_count": 8,
   "id": "c69d9c0d-2f65-4cfa-a630-99b838ec6002",
   "metadata": {
    "scrolled": true
   },
   "outputs": [
    {
     "name": "stdout",
     "output_type": "stream",
     "text": [
      "0.7167394 \n",
      "Perry, having recently wrapped up a project at TaskRabbit, leaned back in his chair, stretching his arms as he began dictating his day's activities to his smart home device.\n",
      "0.64252317  He had been particularly engrossed in fine-tuning their machine learning algorithms to optimize task matching, ensuring local demand was met efficiently.\n",
      "0.7455776 \n",
      "\n",
      "He, now standing, walked over to the kitchen counter where his wife had left a note about grocery shopping.\n",
      "0.72643536  Despite Daly City being less bustling than San Francisco, they still appreciated the convenience of having everything nearby.\n",
      "0.7523677  He grabbed his keys and headed out, passing by their daughter's piano room where she was practicing scales, her fingers dancing lightly on the keys.\n",
      "0.7563822 \n",
      "\n",
      "Later that afternoon, he found himself in his son's room, watching as the boy strummed a melody on his guitar.\n",
      "0.74335754  His wife joined them, balancing a bass guitar on her lap, eager to learn and keep up with their musically inclined children.\n",
      "0.7272644  He smiled, envisioning their future family band jams echoing through the house.\n",
      "0.7431899 \n",
      "\n",
      "After dinner, he sat down at his computer, ready to catch up on some emails.\n",
      "0.7400424  A notification popped up from his parents, a picture of their orange tabby cat, Marmalade, lounging in the sun.\n",
      "0.7351265  He chuckled, remembering how his kids would beg to go over just to see 'Marmalady,' as they affectionately called her.\n",
      "0.7075017 \n",
      "\n",
      "As he settled into bed later that night, he picked up his guitar, fingers finding the familiar chords of a Flamenco piece he had been attempting to master.\n",
      "0.69443494  The soft strumming filled their bedroom, lulling his wife and himself to sleep, dreaming of future concerts with his family band.\n"
     ]
    }
   ],
   "source": [
    "inputs = tokenizer(input_text, return_tensors='pt')\n",
    "model_output = model(**inputs)\n",
    "embeddings = chunked_pooling(model_output, [span_annotations])[0]\n",
    "\n",
    "for i, e in enumerate(embeddings):\n",
    "    score = similarity(question_embeddings[0], e)\n",
    "    print(score, chunks[i])\n",
    "    # if score > 0.75:\n",
    "    #     print(chunks[i], score)"
   ]
  },
  {
   "cell_type": "code",
   "execution_count": null,
   "id": "5a340323-6960-4a08-9809-b4a0502e5efc",
   "metadata": {},
   "outputs": [],
   "source": []
  }
 ],
 "metadata": {
  "kernelspec": {
   "display_name": "Python 3 (ipykernel)",
   "language": "python",
   "name": "python3"
  },
  "language_info": {
   "codemirror_mode": {
    "name": "ipython",
    "version": 3
   },
   "file_extension": ".py",
   "mimetype": "text/x-python",
   "name": "python",
   "nbconvert_exporter": "python",
   "pygments_lexer": "ipython3",
   "version": "3.12.4"
  }
 },
 "nbformat": 4,
 "nbformat_minor": 5
}
